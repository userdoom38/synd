{
 "cells": [
  {
   "cell_type": "code",
   "execution_count": 1,
   "id": "08115c26",
   "metadata": {},
   "outputs": [],
   "source": [
    "from sdv.datasets.demo import download_demo\n",
    "\n",
    "data, metadata = download_demo('single_table', 'adult')\n"
   ]
  },
  {
   "cell_type": "code",
   "execution_count": 2,
   "id": "034b83b2",
   "metadata": {},
   "outputs": [],
   "source": [
    "from synd import TGAN, CTGAN\n",
    "from synd.datasets import SingleTable\n",
    "\n",
    "discrete_columns = [\n",
    "    'workclass',\n",
    "    'education',\n",
    "    'marital-status',\n",
    "    'occupation',\n",
    "    'relationship',\n",
    "    'race',\n",
    "    'sex',\n",
    "    'native-country',\n",
    "    'label',\n",
    "]\n",
    "\n",
    "batch_size = 200\n",
    "epochs = 10\n",
    "device = 'cuda:0'\n",
    "\n",
    "dataset = SingleTable(data, metadata.to_dict(), discrete_columns=discrete_columns)\n",
    "dataset.fit()\n",
    "\n",
    "tgan = TGAN(batch_size=batch_size, device=device)\n",
    "ctgan = CTGAN(batch_size=batch_size, device=device)\n"
   ]
  },
  {
   "cell_type": "code",
   "execution_count": 3,
   "id": "9a737525",
   "metadata": {},
   "outputs": [
    {
     "name": "stdout",
     "output_type": "stream",
     "text": [
      "Epoch\t\tG loss\t\tC loss\n",
      "=============================================\n",
      "01\t\t1.5449\t\t3.6144\n",
      "02\t\t1.1077\t\t0.0352\n",
      "03\t\t0.5194\t\t0.1911\n",
      "04\t\t0.0794\t\t0.1561\n",
      "05\t\t0.0112\t\t0.1508\n",
      "06\t\t-0.0031\t\t0.1755\n",
      "07\t\t-0.0022\t\t0.1678\n",
      "08\t\t-0.0019\t\t0.1862\n",
      "09\t\t-0.0027\t\t0.1791\n",
      "10\t\t-0.0013\t\t0.1195\n"
     ]
    }
   ],
   "source": [
    "ctgan.fit(dataset, epochs=epochs)\n"
   ]
  },
  {
   "cell_type": "code",
   "execution_count": 4,
   "id": "d66090d4",
   "metadata": {},
   "outputs": [
    {
     "name": "stdout",
     "output_type": "stream",
     "text": [
      "Epoch\t\tG loss\t\tC loss\n",
      "=============================================\n",
      "01\t\t-0.0125\t\t9.6899\n",
      "02\t\t-0.0115\t\t0.0830\n",
      "03\t\t-0.0118\t\t0.1017\n",
      "04\t\t-0.0115\t\t0.0693\n",
      "05\t\t-0.0126\t\t0.0913\n",
      "06\t\t-0.0110\t\t0.1256\n",
      "07\t\t-0.0120\t\t0.0958\n",
      "08\t\t-0.0104\t\t0.2366\n",
      "09\t\t-0.0099\t\t0.2000\n",
      "10\t\t-0.0083\t\t0.1453\n"
     ]
    }
   ],
   "source": [
    "tgan.fit(dataset, epochs=epochs)\n"
   ]
  },
  {
   "cell_type": "code",
   "execution_count": 5,
   "id": "464beb48",
   "metadata": {},
   "outputs": [],
   "source": [
    "ctgan_fake = ctgan.sample(1200)\n"
   ]
  },
  {
   "cell_type": "code",
   "execution_count": 6,
   "id": "2c79cfa6",
   "metadata": {},
   "outputs": [],
   "source": [
    "tgan_fake = tgan.sample(1200)\n"
   ]
  },
  {
   "cell_type": "code",
   "execution_count": 7,
   "id": "d6eb76c3",
   "metadata": {},
   "outputs": [
    {
     "name": "stderr",
     "output_type": "stream",
     "text": [
      "Creating report: 100%|█████████████████████████████████████████████████████████████████████████████████████████| 4/4 [00:01<00:00,  3.95it/s]\n"
     ]
    },
    {
     "name": "stdout",
     "output_type": "stream",
     "text": [
      "\n",
      "Overall Quality Score: 60.35%\n",
      "\n",
      "Properties:\n",
      "Column Shapes: 65.07%\n",
      "Column Pair Trends: 55.62%\n"
     ]
    },
    {
     "name": "stderr",
     "output_type": "stream",
     "text": [
      "Creating report: 100%|█████████████████████████████████████████████████████████████████████████████████████████| 4/4 [00:00<00:00,  4.05it/s]\n"
     ]
    },
    {
     "name": "stdout",
     "output_type": "stream",
     "text": [
      "\n",
      "Overall Quality Score: 78.83%\n",
      "\n",
      "Properties:\n",
      "Column Shapes: 81.89%\n",
      "Column Pair Trends: 75.77%\n"
     ]
    }
   ],
   "source": [
    "from sdmetrics.reports.single_table import QualityReport\n",
    "\n",
    "report = QualityReport()\n",
    "report.generate(data, ctgan_fake, metadata.to_dict())\n",
    "report.generate(data, tgan_fake, metadata.to_dict())\n",
    "\n"
   ]
  },
  {
   "cell_type": "code",
   "execution_count": null,
   "id": "30996820",
   "metadata": {},
   "outputs": [],
   "source": []
  }
 ],
 "metadata": {
  "kernelspec": {
   "display_name": "Python 3 (ipykernel)",
   "language": "python",
   "name": "python3"
  },
  "language_info": {
   "codemirror_mode": {
    "name": "ipython",
    "version": 3
   },
   "file_extension": ".py",
   "mimetype": "text/x-python",
   "name": "python",
   "nbconvert_exporter": "python",
   "pygments_lexer": "ipython3",
   "version": "3.10.7"
  }
 },
 "nbformat": 4,
 "nbformat_minor": 5
}
