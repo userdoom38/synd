{
 "cells": [
  {
   "cell_type": "code",
   "execution_count": 1,
   "id": "08115c26",
   "metadata": {},
   "outputs": [],
   "source": [
    "from sdv.datasets.demo import download_demo\n",
    "\n",
    "data, metadata = download_demo('single_table', 'adult')\n"
   ]
  },
  {
   "cell_type": "code",
   "execution_count": 2,
   "id": "034b83b2",
   "metadata": {},
   "outputs": [
    {
     "name": "stderr",
     "output_type": "stream",
     "text": [
      "[2023-05-12 23:40:57,984] [synd.datasets.single_table] [DEBUG\t] setting dataset name to: SingleTable20230512-21:40:57\n",
      "[2023-05-12 23:40:57,985] [synd.datasets.single_table] [DEBUG\t] creating `DataTransformer`\n",
      "[2023-05-12 23:40:57,985] [synd.datasets.single_table] [DEBUG\t] fitting `DataTransformer`\n",
      "[2023-05-12 23:41:21,194] [synd.datasets.single_table] [DEBUG\t] creating `DataSampler`\n"
     ]
    }
   ],
   "source": [
    "import sys\n",
    "import os\n",
    "\n",
    "sys.path.insert(0, '../') \n",
    "\n",
    "from synd import TGAN, CTGAN\n",
    "from synd.datasets import SingleTable\n",
    "\n",
    "discrete_columns = [\n",
    "    'workclass',\n",
    "    'education',\n",
    "    'marital-status',\n",
    "    'occupation',\n",
    "    'relationship',\n",
    "    'race',\n",
    "    'sex',\n",
    "    'native-country',\n",
    "    'label',\n",
    "]\n",
    "\n",
    "batch_size = 200\n",
    "epochs = 3\n",
    "device = 'cuda:0'\n",
    "\n",
    "dataset = SingleTable(data, metadata.to_dict(), discrete_columns=discrete_columns)\n",
    "dataset.fit()\n",
    "\n",
    "tgan = TGAN(batch_size=batch_size, device=device)\n",
    "ctgan = CTGAN(batch_size=batch_size, device=device)\n"
   ]
  },
  {
   "cell_type": "code",
   "execution_count": 3,
   "id": "9a737525",
   "metadata": {},
   "outputs": [
    {
     "name": "stdout",
     "output_type": "stream",
     "text": [
      "Epoch\t\tG loss\t\tC loss\n",
      "=============================================\n",
      "01\t\t1.6104\t\t3.4633\n",
      "02\t\t1.1318\t\t0.1998\n",
      "03\t\t0.5073\t\t0.0721\n"
     ]
    }
   ],
   "source": [
    "ctgan.fit(dataset, epochs=epochs)\n"
   ]
  },
  {
   "cell_type": "code",
   "execution_count": 4,
   "id": "d66090d4",
   "metadata": {},
   "outputs": [
    {
     "name": "stdout",
     "output_type": "stream",
     "text": [
      "Epoch\t\tG loss\t\tC loss\n",
      "=============================================\n",
      "01\t\t-0.0152\t\t11.2482\n",
      "02\t\t-0.0133\t\t0.1753\n",
      "03\t\t-0.0138\t\t0.1167\n"
     ]
    }
   ],
   "source": [
    "tgan.fit(dataset, epochs=epochs)\n"
   ]
  },
  {
   "cell_type": "code",
   "execution_count": 5,
   "id": "464beb48",
   "metadata": {},
   "outputs": [],
   "source": [
    "ctgan_sampleset = ctgan.sample(1200, dataset, sampleset_name='CTGAN-samples')\n"
   ]
  },
  {
   "cell_type": "code",
   "execution_count": 6,
   "id": "2c79cfa6",
   "metadata": {},
   "outputs": [],
   "source": [
    "tgan_sampleset = tgan.sample(1200, dataset, sampleset_name='TGAN-samples')\n"
   ]
  },
  {
   "cell_type": "code",
   "execution_count": 7,
   "id": "d6eb76c3",
   "metadata": {},
   "outputs": [
    {
     "name": "stderr",
     "output_type": "stream",
     "text": [
      "Creating report: 100%|██████████████████████████████████████████████████████████████████████████████████████████████████████████████████████████████████████████████████████████████████████████████████████████████████████████████████████████████████████| 4/4 [00:01<00:00,  3.88it/s]\n"
     ]
    },
    {
     "name": "stdout",
     "output_type": "stream",
     "text": [
      "\n",
      "Overall Quality Score: 54.88%\n",
      "\n",
      "Properties:\n",
      "Column Shapes: 60.77%\n",
      "Column Pair Trends: 48.99%\n"
     ]
    },
    {
     "name": "stderr",
     "output_type": "stream",
     "text": [
      "Creating report: 100%|██████████████████████████████████████████████████████████████████████████████████████████████████████████████████████████████████████████████████████████████████████████████████████████████████████████████████████████████████████| 4/4 [00:00<00:00,  4.07it/s]\n"
     ]
    },
    {
     "name": "stdout",
     "output_type": "stream",
     "text": [
      "\n",
      "Overall Quality Score: 76.66%\n",
      "\n",
      "Properties:\n",
      "Column Shapes: 79.73%\n",
      "Column Pair Trends: 73.6%\n"
     ]
    }
   ],
   "source": [
    "from sdmetrics.reports.single_table import QualityReport\n",
    "\n",
    "report = QualityReport()\n",
    "report.generate(data, ctgan_sampleset._data, metadata.to_dict())\n",
    "report.generate(data, tgan_sampleset._data, metadata.to_dict())\n",
    "\n"
   ]
  },
  {
   "cell_type": "code",
   "execution_count": null,
   "id": "30996820",
   "metadata": {},
   "outputs": [],
   "source": []
  }
 ],
 "metadata": {
  "kernelspec": {
   "display_name": "Python 3 (ipykernel)",
   "language": "python",
   "name": "python3"
  },
  "language_info": {
   "codemirror_mode": {
    "name": "ipython",
    "version": 3
   },
   "file_extension": ".py",
   "mimetype": "text/x-python",
   "name": "python",
   "nbconvert_exporter": "python",
   "pygments_lexer": "ipython3",
   "version": "3.10.7"
  }
 },
 "nbformat": 4,
 "nbformat_minor": 5
}
