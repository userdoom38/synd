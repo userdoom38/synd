{
 "cells": [
  {
   "cell_type": "code",
   "execution_count": 1,
   "id": "08115c26",
   "metadata": {},
   "outputs": [],
   "source": [
    "from sdv.datasets.demo import download_demo\n",
    "\n",
    "data, metadata = download_demo('single_table', 'adult')\n"
   ]
  },
  {
   "cell_type": "code",
   "execution_count": 2,
   "id": "034b83b2",
   "metadata": {},
   "outputs": [],
   "source": [
    "from synd import CTGAN\n",
    "from synd.datasets import SingleTable\n",
    "\n",
    "discrete_columns = [\n",
    "    'workclass',\n",
    "    'education',\n",
    "    'marital-status',\n",
    "    'occupation',\n",
    "    'relationship',\n",
    "    'race',\n",
    "    'sex',\n",
    "    'native-country',\n",
    "    'label',\n",
    "]\n",
    "\n",
    "dataset = SingleTable(data, metadata.to_dict(), discrete_columns=discrete_columns)\n",
    "dataset.fit()\n",
    "\n",
    "model = CTGAN(batch_size=100, device='cuda:0')\n"
   ]
  },
  {
   "cell_type": "code",
   "execution_count": 4,
   "id": "9a737525",
   "metadata": {},
   "outputs": [
    {
     "name": "stdout",
     "output_type": "stream",
     "text": [
      "Generator(\n",
      "  (_decoder): Sequential(\n",
      "    (0): Residual(\n",
      "      (_affine): Sequential(\n",
      "        (0): Linear(in_features=232, out_features=256, bias=True)\n",
      "        (1): BatchNorm1d(256, eps=1e-05, momentum=0.1, affine=True, track_running_stats=True)\n",
      "        (2): ReLU()\n",
      "      )\n",
      "    )\n",
      "    (1): Residual(\n",
      "      (_affine): Sequential(\n",
      "        (0): Linear(in_features=488, out_features=256, bias=True)\n",
      "        (1): BatchNorm1d(256, eps=1e-05, momentum=0.1, affine=True, track_running_stats=True)\n",
      "        (2): ReLU()\n",
      "      )\n",
      "    )\n",
      "    (2): Linear(in_features=744, out_features=157, bias=True)\n",
      "  )\n",
      ")\n",
      "Critic(\n",
      "  (_encoder): Sequential(\n",
      "    (0): Linear(in_features=2610, out_features=256, bias=True)\n",
      "    (1): LeakyReLU(negative_slope=0.2)\n",
      "    (2): Dropout(p=0.5, inplace=False)\n",
      "    (3): Linear(in_features=256, out_features=256, bias=True)\n",
      "    (4): LeakyReLU(negative_slope=0.2)\n",
      "    (5): Dropout(p=0.5, inplace=False)\n",
      "  )\n",
      ")\n",
      "\tEpoch\tG loss\tC loss\n",
      "\t01\t1.1079\t0.0704\n",
      "\t02\t0.5854\t0.1152\n",
      "\t03\t0.1071\t0.2109\n",
      "\t04\t0.0036\t0.1601\n",
      "\t05\t-0.0012\t0.1335\n",
      "\t06\t-0.0017\t0.0937\n",
      "\t07\t-0.0022\t0.2106\n",
      "\t08\t0.0225\t0.2359\n",
      "\t09\t-0.0002\t0.2009\n",
      "\t10\t-0.0013\t0.1362\n"
     ]
    }
   ],
   "source": [
    "model.fit(dataset, epochs=10)\n"
   ]
  },
  {
   "cell_type": "code",
   "execution_count": null,
   "id": "d66090d4",
   "metadata": {},
   "outputs": [],
   "source": []
  }
 ],
 "metadata": {
  "kernelspec": {
   "display_name": "Python 3 (ipykernel)",
   "language": "python",
   "name": "python3"
  },
  "language_info": {
   "codemirror_mode": {
    "name": "ipython",
    "version": 3
   },
   "file_extension": ".py",
   "mimetype": "text/x-python",
   "name": "python",
   "nbconvert_exporter": "python",
   "pygments_lexer": "ipython3",
   "version": "3.10.7"
  }
 },
 "nbformat": 4,
 "nbformat_minor": 5
}
